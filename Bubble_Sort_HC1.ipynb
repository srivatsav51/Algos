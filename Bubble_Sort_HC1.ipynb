{
 "cells": [
  {
   "cell_type": "code",
   "execution_count": 6,
   "metadata": {},
   "outputs": [
    {
     "name": "stdout",
     "output_type": "stream",
     "text": [
      "Array is sorted in  15  swaps\n",
      "First Element:  1\n",
      "Last Element:  9\n"
     ]
    }
   ],
   "source": [
    "#import numpy as np\n",
    "al=[2,9,4,3,6,5,7,1,8]\n",
    "#l1=np.array(al,dtype=np.int64)\n",
    "swaps_count=0\n",
    "def swap(a,b):\n",
    "    c=0\n",
    "    count=0\n",
    "    if a>b:\n",
    "        c=b\n",
    "        b=a\n",
    "        a=c\n",
    "        count+=1\n",
    "    return a,b,count\n",
    "\n",
    "for i in range(len(al)-1):\n",
    "    \n",
    "    for j in range(len(al)-1):\n",
    "        #print(l1[i],l1[i+1])\n",
    "        al[j],al[j+1],c1=swap(al[j],al[j+1])\n",
    "        swaps_count+=c1\n",
    "print(\"Array is sorted in \",swaps_count,\" swaps\")\n",
    "print(\"First Element: \",l1[0])\n",
    "print(\"Last Element: \",l1[len(l1)-1])"
   ]
  },
  {
   "cell_type": "code",
   "execution_count": null,
   "metadata": {
    "collapsed": true
   },
   "outputs": [],
   "source": []
  }
 ],
 "metadata": {
  "kernelspec": {
   "display_name": "Python 3",
   "language": "python",
   "name": "python3"
  },
  "language_info": {
   "codemirror_mode": {
    "name": "ipython",
    "version": 3
   },
   "file_extension": ".py",
   "mimetype": "text/x-python",
   "name": "python",
   "nbconvert_exporter": "python",
   "pygments_lexer": "ipython3",
   "version": "3.6.1"
  }
 },
 "nbformat": 4,
 "nbformat_minor": 2
}
