{
 "cells": [
  {
   "cell_type": "code",
   "execution_count": 121,
   "metadata": {},
   "outputs": [],
   "source": [
    "al=[9,8,7,6,5,4,3,2,1,10]\n",
    "def sortByMerge(al):\n",
    "    temp=[0]*len(al)\n",
    "    count=MergeSort(al,temp,0,len(al)-1)\n",
    "    \n",
    "def MergeSort(al,temp,start,end):\n",
    "    count=0\n",
    "    mid=(start+end)//2\n",
    "    if start<end:\n",
    "        count=MergeSort(al,temp,start,mid)\n",
    "        count+=MergeSort(al,temp,mid+1,end)\n",
    "        count+=Merge(al,temp,start,end)\n",
    "    return count\n",
    "def Merge(al,temp,leftStart,rightEnd):\n",
    "    leftEnd=(leftStart+rightEnd)//2\n",
    "    rightStart=leftEnd+1\n",
    "    li=leftStart\n",
    "    ri=rightStart\n",
    "    index=leftStart\n",
    "    count=0\n",
    "    while(li<=leftEnd and ri<=rightEnd):\n",
    "        if(al[li]<=al[ri]):\n",
    "            temp[index]=al[li]\n",
    "            li+=1\n",
    "        else:\n",
    "            temp[index]=al[ri]\n",
    "            ri+=1\n",
    "            count+=(leftEnd-li+1)\n",
    "        index+=1\n",
    "    #print(temp)\n",
    "    temp[index:leftEnd-li+1+index]=al[li:leftEnd-li+1+index]\n",
    "    temp[index:rightEnd-ri+1+index]=al[ri:rightEnd-ri+1+index]\n",
    "    al[leftStart:rightEnd+1]=temp[leftStart:rightEnd+1]\n",
    "    \n",
    "    return count\n",
    "    "
   ]
  },
  {
   "cell_type": "code",
   "execution_count": 125,
   "metadata": {},
   "outputs": [
    {
     "data": {
      "text/plain": [
       "[1, 2, 3, 4, 5, 6, 7, 8, 9, 10]"
      ]
     },
     "execution_count": 125,
     "metadata": {},
     "output_type": "execute_result"
    }
   ],
   "source": [
    "sortByMerge(al)\n",
    "al"
   ]
  },
  {
   "cell_type": "code",
   "execution_count": 126,
   "metadata": {},
   "outputs": [
    {
     "data": {
      "text/plain": [
       "[]"
      ]
     },
     "execution_count": 126,
     "metadata": {},
     "output_type": "execute_result"
    }
   ],
   "source": [
    "al[2:1]"
   ]
  },
  {
   "cell_type": "code",
   "execution_count": null,
   "metadata": {
    "collapsed": true
   },
   "outputs": [],
   "source": []
  }
 ],
 "metadata": {
  "kernelspec": {
   "display_name": "Python 3",
   "language": "python",
   "name": "python3"
  },
  "language_info": {
   "codemirror_mode": {
    "name": "ipython",
    "version": 3
   },
   "file_extension": ".py",
   "mimetype": "text/x-python",
   "name": "python",
   "nbconvert_exporter": "python",
   "pygments_lexer": "ipython3",
   "version": "3.6.1"
  }
 },
 "nbformat": 4,
 "nbformat_minor": 2
}
